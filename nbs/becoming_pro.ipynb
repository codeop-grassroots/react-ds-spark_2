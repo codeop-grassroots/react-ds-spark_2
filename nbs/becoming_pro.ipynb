{
 "cells": [
  {
   "cell_type": "markdown",
   "id": "d46c8e32-6381-44b2-a522-238359b0606c",
   "metadata": {},
   "source": [
    "# Spark SQL with pySpark"
   ]
  },
  {
   "cell_type": "markdown",
   "id": "e355437c-f3b8-4e13-8c6f-7a4203959afc",
   "metadata": {},
   "source": [
    "Answer the following questions"
   ]
  },
  {
   "cell_type": "code",
   "execution_count": 1,
   "id": "9a0e2c1f-1fea-493e-872f-5a4fdf691019",
   "metadata": {},
   "outputs": [],
   "source": [
    "from pyspark.sql import SparkSession\n",
    "from pyspark.sql.functions import *\n",
    "from pyspark.sql import Row, Window\n",
    "from pyspark.sql.types import IntegerType"
   ]
  },
  {
   "cell_type": "code",
   "execution_count": 2,
   "id": "7099a616-fe1e-48b8-bfb8-d85be20a045a",
   "metadata": {},
   "outputs": [],
   "source": [
    "spark = (\n",
    "    SparkSession\n",
    "    .builder\n",
    "    .master(\"local\")\n",
    "    .config(\"spark.sql.autoBroadcastJoinThreshold\", -1)\n",
    "    .config(\"spark.executor.memory\", \"3g\")\n",
    "    .appName(\"Exercise1\")\n",
    "    .getOrCreate()\n",
    ")"
   ]
  },
  {
   "cell_type": "code",
   "execution_count": 3,
   "id": "4f0ffc3a-b882-4a64-86e0-f6ff05b293eb",
   "metadata": {},
   "outputs": [],
   "source": [
    "# Read the source tables\n",
    "products_table = spark.read.parquet(\"./data/products_parquet\")\n",
    "sales_table    = spark.read.parquet(\"./data/sales_parquet\")\n",
    "sellers_table  = spark.read.parquet(\"./data/sellers_parquet\")"
   ]
  },
  {
   "cell_type": "code",
   "execution_count": 4,
   "id": "efe98e09-7ca8-423f-a1ae-e199d7975c5b",
   "metadata": {},
   "outputs": [
    {
     "name": "stdout",
     "output_type": "stream",
     "text": [
      "root\n",
      " |-- product_id: string (nullable = true)\n",
      " |-- product_name: string (nullable = true)\n",
      " |-- price: string (nullable = true)\n",
      "\n",
      "root\n",
      " |-- order_id: string (nullable = true)\n",
      " |-- product_id: string (nullable = true)\n",
      " |-- seller_id: string (nullable = true)\n",
      " |-- date: string (nullable = true)\n",
      " |-- num_pieces_sold: string (nullable = true)\n",
      " |-- bill_raw_text: string (nullable = true)\n",
      "\n",
      "root\n",
      " |-- seller_id: string (nullable = true)\n",
      " |-- seller_name: string (nullable = true)\n",
      " |-- daily_target: string (nullable = true)\n",
      "\n"
     ]
    }
   ],
   "source": [
    "products_table.printSchema()\n",
    "sales_table.printSchema()\n",
    "sellers_table.printSchema()"
   ]
  },
  {
   "cell_type": "markdown",
   "id": "ea9077cd-ac02-4c57-aa58-3e35efe4225a",
   "metadata": {},
   "source": [
    "# Data study"
   ]
  },
  {
   "cell_type": "markdown",
   "id": "39ff0eec-e5a4-491b-a893-d0e956370373",
   "metadata": {},
   "source": [
    "For each seller find the average performance as a % of their daily target amount"
   ]
  },
  {
   "cell_type": "code",
   "execution_count": null,
   "id": "fd67a045-5b67-40af-b95f-565ab19cfe2d",
   "metadata": {},
   "outputs": [],
   "source": []
  },
  {
   "cell_type": "markdown",
   "id": "8f08305b-9f05-410a-8bbf-7fe74b22087b",
   "metadata": {},
   "source": [
    "|seller_id|avg_daily_percentage|\n",
    "|--------:|--------------------|\n",
    "|        1|              212.22|\n",
    "|        2|               72.99|\n",
    "|        3|              169.68|\n",
    "|        4|               35.75|\n",
    "|        5|               45.66|\n",
    "|        6|               52.91|\n",
    "|        7|                28.1|\n",
    "|        8|              102.76|\n",
    "|        9|               40.81|"
   ]
  },
  {
   "cell_type": "markdown",
   "id": "257efa49-2742-4c60-bac2-c3a12a9493b3",
   "metadata": {},
   "source": [
    "Find out how many sellers are not making their daily goal for every day."
   ]
  },
  {
   "cell_type": "code",
   "execution_count": null,
   "id": "15607d24-bae2-40a6-9ed3-bf691b8442e1",
   "metadata": {},
   "outputs": [],
   "source": []
  },
  {
   "cell_type": "markdown",
   "id": "a1b04963-259b-4305-8119-7eac1841df16",
   "metadata": {},
   "source": [
    "only showing top 20 rows:\n",
    "\n",
    "|seller_name|      date|sellers_daily_profit|daily_target|\n",
    "|----------:|----------|--------------------|------------|\n",
    "|   seller_2|2020-07-01|            518119.0|      754188|\n",
    "|   seller_2|2020-07-02|            512012.0|      754188|\n",
    "|   seller_2|2020-07-03|            525180.0|      754188|\n",
    "|   seller_2|2020-07-04|            617840.0|      754188|\n",
    "|   seller_2|2020-07-05|            508774.0|      754188|\n",
    "|   seller_2|2020-07-06|            589736.0|      754188|\n",
    "|   seller_2|2020-07-07|            635401.0|      754188|\n",
    "|   seller_2|2020-07-08|            604797.0|      754188|\n",
    "|   seller_2|2020-07-09|            503370.0|      754188|\n",
    "|   seller_2|2020-07-10|            487760.0|      754188|\n",
    "|   seller_4|2020-07-01|            549595.0|     1532808|\n",
    "|   seller_4|2020-07-02|            512200.0|     1532808|\n",
    "|   seller_4|2020-07-03|            627174.0|     1532808|\n",
    "|   seller_4|2020-07-04|            519878.0|     1532808|\n",
    "|   seller_4|2020-07-05|            486912.0|     1532808|\n",
    "|   seller_4|2020-07-06|            563439.0|     1532808|\n",
    "|   seller_4|2020-07-07|            531202.0|     1532808|\n",
    "|   seller_4|2020-07-08|            584587.0|     1532808|\n",
    "|   seller_4|2020-07-09|            508752.0|     1532808|\n",
    "|   seller_4|2020-07-10|            596303.0|     1532808|"
   ]
  },
  {
   "cell_type": "markdown",
   "id": "d416ebf6-dbac-4a60-822b-ec1c919e611a",
   "metadata": {},
   "source": [
    "What sellers have the biggest diffference between the day they performed the best and the day they performed the worst?"
   ]
  },
  {
   "cell_type": "code",
   "execution_count": null,
   "id": "6e198b43-ab14-483e-b8f7-eee3f44c8611",
   "metadata": {},
   "outputs": [],
   "source": []
  },
  {
   "cell_type": "markdown",
   "id": "81a8b2ed-b187-45ae-9ca4-3a122c6d3556",
   "metadata": {},
   "source": [
    "|seller_id|min_daily_percentage|max_daily_percentage|min_max_difference|\n",
    "|--------:|--------------------|--------------------|------------------|\n",
    "|        7|               23.43|                31.3|              7.87|\n",
    "|        4|               31.77|               40.92|              9.15|\n",
    "|        6|               46.13|               57.49|             11.36|\n",
    "|        9|               32.52|               46.83|             14.31|\n",
    "|        5|               37.56|               52.02|             14.46|\n",
    "|        2|               64.67|               84.25|             19.58|\n",
    "|        8|               87.55|              114.94|             27.39|\n",
    "|        1|              193.52|               227.6|             34.08|\n",
    "|        3|              145.56|              197.62|             52.06|"
   ]
  },
  {
   "cell_type": "markdown",
   "id": "f34f38a7-4702-4b31-90d1-067638bd03f3",
   "metadata": {},
   "source": [
    "# Pivot tables\n",
    "\n",
    "Let's imagine that there is a \"product category\", based on the first number of the product id. To create this column, you can use the functions [lit](https://spark.apache.org/docs/latest/api/python/reference/pyspark.sql/api/pyspark.sql.functions.lit.html#) and [concat](https://spark.apache.org/docs/latest/api/python/reference/pyspark.sql/api/pyspark.sql.functions.concat.html), and the property [substr](https://spark.apache.org/docs/latest/api/python/reference/pyspark.sql/api/pyspark.sql.Column.substr.html) of a column\n",
    "\n",
    "Find out about whether or not it is more common to sell more units during the weekend, depending on product category. Use a [pivot table](https://spark.apache.org/docs/latest/api/python/reference/pyspark.sql/api/pyspark.sql.GroupedData.pivot.html).\n",
    "\n",
    "TIP: what metric should you use to know whether is it more common to sell during the weekend or not?"
   ]
  },
  {
   "cell_type": "code",
   "execution_count": null,
   "id": "7fb4455f-55ca-4d63-989c-233cb56f58eb",
   "metadata": {},
   "outputs": [],
   "source": []
  },
  {
   "cell_type": "markdown",
   "id": "baa24212-4a91-42f7-9b08-e3b97358a473",
   "metadata": {},
   "source": [
    "I'm not telling you the results! But it should look like this:\n",
    "\n",
    "|weekend|category_1|category_2|category_3|category_4|category_5|category_6|category_7|category_8|category_9|\n",
    "|------:|-----|-----|-----|-----|-----|-----|-----|-----|-----|\n",
    "|   true|  -  |  -  |  -  |  -  |  -  |  -  |  -  |  -  |  -  |\n",
    "|  false|  -  |  -  |  -  |  -  |  -  |  -  |  -  |  -  |  -  |"
   ]
  },
  {
   "cell_type": "markdown",
   "id": "fd5d3153-3bed-4f2a-97cf-5561f0ecbf40",
   "metadata": {},
   "source": [
    "Go back to the exercise of \"which sellers are not making their daily goal\" and study the percentage of days they make it, depending on the day of week. Can you find out any interesting information?"
   ]
  },
  {
   "cell_type": "code",
   "execution_count": null,
   "id": "0360ed0d-7fb1-41dc-9cd3-c4a6104fff13",
   "metadata": {},
   "outputs": [],
   "source": []
  },
  {
   "cell_type": "markdown",
   "id": "6accc8eb-696e-447b-b991-7c58cac5c172",
   "metadata": {},
   "source": [
    "Again, I'm not telling you the results.\n",
    "\n",
    "|seller_name|    1|    2|    3|    4|    5|    6|    7|\n",
    "|----------:|-----|-----|-----|-----|-----|-----|-----|\n",
    "|   seller_1|  -  |  -  |  -  |  -  |  -  |  -  |  -  |\n",
    "|   seller_2|  -  |  -  |  -  |  -  |  -  |  -  |  -  |\n",
    "|   seller_3|  -  |  -  |  -  |  -  |  -  |  -  |  -  |\n",
    "|   seller_4|  -  |  -  |  -  |  -  |  -  |  -  |  -  |\n",
    "|   seller_5|  -  |  -  |  -  |  -  |  -  |  -  |  -  |\n",
    "|   seller_6|  -  |  -  |  -  |  -  |  -  |  -  |  -  |\n",
    "|   seller_7|  -  |  -  |  -  |  -  |  -  |  -  |  -  |\n",
    "|   seller_8|  -  |  -  |  -  |  -  |  -  |  -  |  -  |\n",
    "|   seller_9|  -  |  -  |  -  |  -  |  -  |  -  |  -  |\n"
   ]
  },
  {
   "cell_type": "markdown",
   "id": "8710422a-2a9d-4157-b2bb-e4237ebc35d1",
   "metadata": {},
   "source": [
    "# Window functions\n",
    "\n",
    "[Window functions](https://medium.com/@uzzaman.ahmed/pyspark-window-functions-a-comprehensive-guide-dc9bdad8c7ae) allow us to query subsets of the data without the need to do things like creating another group by table and joining the two.\n",
    "\n",
    "See [the documentation](https://spark.apache.org/docs/latest/api/python/reference/pyspark.sql/window.html) for everything you can do with window functions."
   ]
  },
  {
   "cell_type": "markdown",
   "id": "1ea123f1-22d9-4c1d-b86f-14ad94ae14b9",
   "metadata": {},
   "source": [
    "Which seller, and on which day, has made the most money compared to their previous day? Which one has made the least?"
   ]
  },
  {
   "cell_type": "code",
   "execution_count": null,
   "id": "59cce7e5-7882-47ec-9ab8-6d9ddceff190",
   "metadata": {},
   "outputs": [],
   "source": []
  },
  {
   "cell_type": "markdown",
   "id": "2c037ec4-1adf-4247-94ce-9e8315ebe544",
   "metadata": {},
   "source": [
    "|seller_name|      date|profit_percent_of_prev_day|\n",
    "|----------:|----------|--------------------------|\n",
    "|   seller_5|2020-07-09|                      77.0|\n",
    "|   seller_9|2020-07-03|                     143.0|"
   ]
  },
  {
   "cell_type": "markdown",
   "id": "5b421ea9-cdc4-4709-abe2-9893cb515792",
   "metadata": {},
   "source": [
    "Coming back to the \"category\" we set before, find out, for each category, which salesman is the best, the second best and the worst at making profit from it."
   ]
  },
  {
   "cell_type": "code",
   "execution_count": null,
   "id": "9c5888c6-83d2-4b0d-954d-898cf0cddf8d",
   "metadata": {},
   "outputs": [],
   "source": []
  },
  {
   "cell_type": "markdown",
   "id": "49009af9-29d8-492e-a507-ae119ba93b78",
   "metadata": {},
   "source": [
    "Tip: you can use a pivot table if you assign a value for each seller, according to their position in the category (look at the documentation for window functions!) and then rename using the property [withColumnRenamed](https://spark.apache.org/docs/latest/api/python/reference/pyspark.sql/api/pyspark.sql.DataFrame.withColumnRenamed.html).\n",
    "\n",
    "|  category|    best|second_best|   worst|\n",
    "|---------:|--------|-----------|--------|\n",
    "|category_1|seller_6|   seller_2|seller_8|\n",
    "|category_2|seller_2|   seller_8|seller_3|\n",
    "|category_3|seller_8|   seller_1|seller_6|\n",
    "|category_4|seller_7|   seller_1|seller_4|\n",
    "|category_5|seller_8|   seller_4|seller_2|\n",
    "|category_6|seller_6|   seller_3|seller_5|\n",
    "|category_7|seller_6|   seller_4|seller_9|\n",
    "|category_8|seller_9|   seller_4|seller_3|\n",
    "|category_9|seller_2|   seller_5|seller_6|"
   ]
  }
 ],
 "metadata": {
  "kernelspec": {
   "display_name": "Python 3 (ipykernel)",
   "language": "python",
   "name": "python3"
  },
  "language_info": {
   "codemirror_mode": {
    "name": "ipython",
    "version": 3
   },
   "file_extension": ".py",
   "mimetype": "text/x-python",
   "name": "python",
   "nbconvert_exporter": "python",
   "pygments_lexer": "ipython3",
   "version": "3.11.6"
  }
 },
 "nbformat": 4,
 "nbformat_minor": 5
}
